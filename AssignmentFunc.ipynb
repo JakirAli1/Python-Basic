{
  "nbformat": 4,
  "nbformat_minor": 0,
  "metadata": {
    "colab": {
      "provenance": []
    },
    "kernelspec": {
      "name": "python3",
      "display_name": "Python 3"
    },
    "language_info": {
      "name": "python"
    }
  },
  "cells": [
    {
      "cell_type": "code",
      "execution_count": null,
      "metadata": {
        "id": "aiqu06-pxG15"
      },
      "outputs": [],
      "source": []
    },
    {
      "cell_type": "markdown",
      "source": [
        "Theory Questions"
      ],
      "metadata": {
        "id": "1FBg7yiSxMLp"
      }
    },
    {
      "cell_type": "markdown",
      "source": [
        " 1. What is the difference between a function and a method in Python?"
      ],
      "metadata": {
        "id": "kL630AyOxyjN"
      }
    },
    {
      "cell_type": "markdown",
      "source": [
        "Function:- A block of code that performs a specific task. It can be defined independently using def.\n",
        "\n",
        "Method:- A function that is associated with an object (defined inside a class). It is called using the object.\n",
        "for example\n"
      ],
      "metadata": {
        "id": "PSQA8__ex9n-"
      }
    },
    {
      "cell_type": "code",
      "source": [
        "# Function\n",
        "def add_numbers(a,b):\n",
        "  return a+b\n",
        "add_numbers(2,3)"
      ],
      "metadata": {
        "colab": {
          "base_uri": "https://localhost:8080/"
        },
        "id": "ilQhV36OyPqZ",
        "outputId": "3f3c268e-ed80-4ff5-de97-63f724507a5d"
      },
      "execution_count": 1,
      "outputs": [
        {
          "output_type": "execute_result",
          "data": {
            "text/plain": [
              "5"
            ]
          },
          "metadata": {},
          "execution_count": 1
        }
      ]
    },
    {
      "cell_type": "code",
      "source": [
        "#Method\n",
        "class Calculator:\n",
        "  def add(self,a,b):\n",
        "    return a+b\n",
        "obj = Calculator()\n",
        "obj.add(2,3)"
      ],
      "metadata": {
        "colab": {
          "base_uri": "https://localhost:8080/"
        },
        "id": "aVvV7goFyuy3",
        "outputId": "562e97a0-6169-4cb0-ae29-12d23f7b5b2b"
      },
      "execution_count": 7,
      "outputs": [
        {
          "output_type": "execute_result",
          "data": {
            "text/plain": [
              "5"
            ]
          },
          "metadata": {},
          "execution_count": 7
        }
      ]
    },
    {
      "cell_type": "markdown",
      "source": [
        "2. Explain the concept of function arguments and parameters in Python"
      ],
      "metadata": {
        "id": "V6U5Gckj0KYi"
      }
    },
    {
      "cell_type": "markdown",
      "source": [
        "Parameter: Variable listed inside the function definition.\n",
        "\n",
        "Argument: Value passed when calling the function.\n",
        "\n",
        "\n",
        "Example:\n"
      ],
      "metadata": {
        "id": "0069H16L0PaH"
      }
    },
    {
      "cell_type": "code",
      "source": [
        "def greet(name):  # 'name' is parameter\n",
        "    print(\"Hello\", name)\n",
        "greet(\"Ajay\")  # \"Alice\" is argument\n",
        "\n",
        "\n",
        "\n"
      ],
      "metadata": {
        "colab": {
          "base_uri": "https://localhost:8080/"
        },
        "id": "EwUcEcznz_i3",
        "outputId": "49e4477d-cd70-4202-f0d3-5001d39259ca"
      },
      "execution_count": 9,
      "outputs": [
        {
          "output_type": "stream",
          "name": "stdout",
          "text": [
            "Hello Ajay\n"
          ]
        }
      ]
    },
    {
      "cell_type": "markdown",
      "source": [
        "3. What are the different ways to define and call a function in Python?"
      ],
      "metadata": {
        "id": "n7e1ANfzyKRK"
      }
    },
    {
      "cell_type": "markdown",
      "source": [
        "Normal function with def\n",
        "\n",
        "Lambda (anonymous) function\n",
        "\n",
        "Built-in functions\n",
        "\n",
        "\n",
        "Example:\n"
      ],
      "metadata": {
        "id": "v6K5NjQA0xTf"
      }
    },
    {
      "cell_type": "markdown",
      "source": [],
      "metadata": {
        "id": "pRWd_wxi08fe"
      }
    },
    {
      "cell_type": "code",
      "source": [
        "# Normal function\n",
        "def square(x):\n",
        "    return x*x\n",
        "square(5)\n"
      ],
      "metadata": {
        "colab": {
          "base_uri": "https://localhost:8080/"
        },
        "id": "fjtYDXKsxwu-",
        "outputId": "b2efbeea-ad7b-482e-b56a-528ea7225164"
      },
      "execution_count": 11,
      "outputs": [
        {
          "output_type": "execute_result",
          "data": {
            "text/plain": [
              "25"
            ]
          },
          "metadata": {},
          "execution_count": 11
        }
      ]
    },
    {
      "cell_type": "code",
      "source": [
        "# Lambda function\n",
        "cube = lambda x: x**3\n",
        "cube(3)\n"
      ],
      "metadata": {
        "colab": {
          "base_uri": "https://localhost:8080/"
        },
        "id": "tRcMRo9B1fFn",
        "outputId": "237a09de-06fd-48d0-e49f-aadf21b2fa7f"
      },
      "execution_count": 12,
      "outputs": [
        {
          "output_type": "execute_result",
          "data": {
            "text/plain": [
              "27"
            ]
          },
          "metadata": {},
          "execution_count": 12
        }
      ]
    },
    {
      "cell_type": "code",
      "source": [
        "# Calling built-in function\n",
        "print(len(\"Python\"))\n"
      ],
      "metadata": {
        "colab": {
          "base_uri": "https://localhost:8080/"
        },
        "id": "8ldKm3mh1k2B",
        "outputId": "29ab1073-0efb-4fa4-b1bc-6bc9a16d5454"
      },
      "execution_count": 13,
      "outputs": [
        {
          "output_type": "stream",
          "name": "stdout",
          "text": [
            "6\n"
          ]
        }
      ]
    },
    {
      "cell_type": "markdown",
      "source": [
        "4. What is the purpose of the `return` statement in a Python function?"
      ],
      "metadata": {
        "id": "0Wuv3ncw1qQn"
      }
    },
    {
      "cell_type": "markdown",
      "source": [
        "Used to send a result from a function back to the caller.\n",
        "\n",
        "Without return, the function returns None.\n",
        "\n",
        "\n",
        "Example:\n"
      ],
      "metadata": {
        "id": "Nj7MxVn01t5P"
      }
    },
    {
      "cell_type": "code",
      "source": [
        "def add(a,b):\n",
        "  return a+b\n",
        "add(5,8)"
      ],
      "metadata": {
        "colab": {
          "base_uri": "https://localhost:8080/"
        },
        "id": "nR9NzPz_10vX",
        "outputId": "894df25a-a236-46c4-8f12-3d50c2b7b07b"
      },
      "execution_count": 14,
      "outputs": [
        {
          "output_type": "execute_result",
          "data": {
            "text/plain": [
              "13"
            ]
          },
          "metadata": {},
          "execution_count": 14
        }
      ]
    },
    {
      "cell_type": "markdown",
      "source": [
        "5. What are iterators in Python and how do they differ from iterables?"
      ],
      "metadata": {
        "id": "nR_ZGvQ_2LNu"
      }
    },
    {
      "cell_type": "markdown",
      "source": [
        "Iterable:- Any object that can return an iterator (list, tuple, string).\n",
        "\n",
        "Iterator:- Object with iter() and _next() methods. It produces values one at a time.\n",
        "\n",
        "\n",
        "Example:\n"
      ],
      "metadata": {
        "id": "auJ56c8h2M1w"
      }
    },
    {
      "cell_type": "code",
      "source": [
        "num = [1,2,3,4,5,6,]  # Iterable\n",
        "it = iter(num)  # Iterator\n",
        "next(it)"
      ],
      "metadata": {
        "colab": {
          "base_uri": "https://localhost:8080/"
        },
        "id": "A2XsCes52D4d",
        "outputId": "d865889f-7013-4ac2-b788-4bcb5feb9bd7"
      },
      "execution_count": 15,
      "outputs": [
        {
          "output_type": "execute_result",
          "data": {
            "text/plain": [
              "1"
            ]
          },
          "metadata": {},
          "execution_count": 15
        }
      ]
    },
    {
      "cell_type": "code",
      "source": [
        "next(it)"
      ],
      "metadata": {
        "colab": {
          "base_uri": "https://localhost:8080/"
        },
        "id": "2-WtA3-b3Az6",
        "outputId": "982c1002-dc44-4ca6-f631-4d2c1a809291"
      },
      "execution_count": 17,
      "outputs": [
        {
          "output_type": "execute_result",
          "data": {
            "text/plain": [
              "2"
            ]
          },
          "metadata": {},
          "execution_count": 17
        }
      ]
    },
    {
      "cell_type": "code",
      "source": [
        "next(it)"
      ],
      "metadata": {
        "colab": {
          "base_uri": "https://localhost:8080/"
        },
        "id": "7aOuvPGB3C5u",
        "outputId": "dfbd65b9-dde0-4410-e5b5-52bd57020ddc"
      },
      "execution_count": 18,
      "outputs": [
        {
          "output_type": "execute_result",
          "data": {
            "text/plain": [
              "3"
            ]
          },
          "metadata": {},
          "execution_count": 18
        }
      ]
    },
    {
      "cell_type": "markdown",
      "source": [
        " 6. Explain the concept of generators in Python and how they are defined.\n"
      ],
      "metadata": {
        "id": "fMr3GrVa3PLW"
      }
    },
    {
      "cell_type": "markdown",
      "source": [
        "Special functions that yield values one at a time using yield.\n",
        "\n",
        "They are memory efficient because they don’t store all values at once.\n",
        "\n",
        "\n",
        "Example:\n"
      ],
      "metadata": {
        "id": "eiEX3luI3Qbu"
      }
    },
    {
      "cell_type": "code",
      "source": [
        "def countdown(n):\n",
        "  while n > 0:\n",
        "    yield n\n",
        "    n = n-1\n",
        "for i in countdown(5):\n",
        "  print(i)\n",
        "\n",
        ""
      ],
      "metadata": {
        "colab": {
          "base_uri": "https://localhost:8080/"
        },
        "id": "bY9KhgiO3IPS",
        "outputId": "6e1e3128-b16b-46b5-f759-0819b5c881ff"
      },
      "execution_count": 19,
      "outputs": [
        {
          "output_type": "stream",
          "name": "stdout",
          "text": [
            "5\n",
            "4\n",
            "3\n",
            "2\n",
            "1\n"
          ]
        }
      ]
    },
    {
      "cell_type": "markdown",
      "source": [
        " 7. What are the advantages of using generators over regular functions?\n"
      ],
      "metadata": {
        "id": "qux2RWo83-kI"
      }
    },
    {
      "cell_type": "markdown",
      "source": [
        "Advantage:-\n",
        "\n",
        "Memory Efficiency:-  Uses less memory by yielding items one at a time\n",
        "\n",
        "Lazy Evaluation :- Generates values only when needed                \n",
        "Simpler Syntax:-  Easier to implement than custom iterator classes\n",
        "\n",
        "Infinite Sequence:-  Can represent endless streams of data  \n",
        "\n",
        "Pipeline Composition:-  Enables modular, readable data pipelines         \n"
      ],
      "metadata": {
        "id": "Vy2ziZRp4Ata"
      }
    },
    {
      "cell_type": "markdown",
      "source": [
        " 8. What is a lambda function in Python and when is it typically used?\n"
      ],
      "metadata": {
        "id": "B8xKVv8s6FOx"
      }
    },
    {
      "cell_type": "markdown",
      "source": [
        "Anonymous (nameless) function defined using lambda.\n",
        "\n",
        "Used for small, one-line functions.\n",
        "\n",
        "\n",
        "Example:\n",
        "\n"
      ],
      "metadata": {
        "id": "TxPL4WT16GZd"
      }
    },
    {
      "cell_type": "code",
      "source": [
        "multiply = lambda x,y: x*y\n",
        "multiply(6,6)"
      ],
      "metadata": {
        "colab": {
          "base_uri": "https://localhost:8080/"
        },
        "id": "RYiePnrF35Xy",
        "outputId": "71265bc3-4258-4df1-f737-fe612e19c8cc"
      },
      "execution_count": 20,
      "outputs": [
        {
          "output_type": "execute_result",
          "data": {
            "text/plain": [
              "36"
            ]
          },
          "metadata": {},
          "execution_count": 20
        }
      ]
    },
    {
      "cell_type": "markdown",
      "source": [
        " 9. Explain the purpose and usage of the `map()` function in Python.\n"
      ],
      "metadata": {
        "id": "sv4o3wkT6nPN"
      }
    },
    {
      "cell_type": "markdown",
      "source": [
        "Applies a function to each item in an iterable and returns a map object (iterator).\n",
        "\n",
        "\n",
        "Example:\n"
      ],
      "metadata": {
        "id": "M-ySh8V46pB8"
      }
    },
    {
      "cell_type": "code",
      "source": [
        "nums = [1, 2, 3, 4]\n",
        "squared = list(map(lambda x: x**2, nums))\n",
        "squared\n"
      ],
      "metadata": {
        "colab": {
          "base_uri": "https://localhost:8080/"
        },
        "id": "cq55LmRS6i9c",
        "outputId": "6aeb7bff-d1fe-408e-e2ed-12be75942a6a"
      },
      "execution_count": 21,
      "outputs": [
        {
          "output_type": "execute_result",
          "data": {
            "text/plain": [
              "[1, 4, 9, 16]"
            ]
          },
          "metadata": {},
          "execution_count": 21
        }
      ]
    },
    {
      "cell_type": "markdown",
      "source": [
        " 10. What is the difference between map(), reduce(), and filter() functions in Python?\n"
      ],
      "metadata": {
        "id": "yIQVhKv77YyC"
      }
    },
    {
      "cell_type": "markdown",
      "source": [
        "map(function, iterable):-  applies function to each element.\n",
        "\n",
        "filter(function, iterable) :-  keeps elements where function returns True.\n",
        "\n",
        "reduce(function, iterable) :- reduces iterable to a single value by applying the function cumulatively.\n",
        "\n",
        "Example:"
      ],
      "metadata": {
        "id": "w4l7MdLb7jZU"
      }
    },
    {
      "cell_type": "code",
      "source": [
        "from functools import reduce\n",
        "nums = [1, 2, 3, 4, 5]\n",
        "\n",
        "print(list(map(lambda x: x*2, nums)))\n",
        "print(list(filter(lambda x: x%2==0, nums)))\n",
        "print(reduce(lambda x,y: x+y, nums))\n"
      ],
      "metadata": {
        "colab": {
          "base_uri": "https://localhost:8080/"
        },
        "id": "M3oRJja17Trk",
        "outputId": "f9d6bf45-27d2-46a2-9356-1c8c729c1562"
      },
      "execution_count": 24,
      "outputs": [
        {
          "output_type": "stream",
          "name": "stdout",
          "text": [
            "[2, 4, 6, 8, 10]\n",
            "[2, 4]\n",
            "15\n"
          ]
        }
      ]
    },
    {
      "cell_type": "markdown",
      "source": [
        "11. Using pen & Paper write the internal mechanism for sum operation using  reduce function on this given  list:[47,11,42,13];\n",
        "\n"
      ],
      "metadata": {
        "id": "QbXnEc9a8dX0"
      }
    },
    {
      "cell_type": "markdown",
      "source": [
        "step 1. 47 + 11 = 58\n",
        "\n",
        "step 2. 58 + 42 = 100\n",
        "\n",
        "step 3. 100 + 13 = 113\n",
        "\n",
        "finaly :- 113"
      ],
      "metadata": {
        "id": "UqwG85IO8jm7"
      }
    },
    {
      "cell_type": "code",
      "source": [
        "from functools import reduce\n",
        "nums = [47, 11, 42, 13]\n",
        "result = reduce(lambda x, y: x+y, nums)\n",
        "print(result)"
      ],
      "metadata": {
        "colab": {
          "base_uri": "https://localhost:8080/"
        },
        "id": "v-IXxBJg85mx",
        "outputId": "1f8c577b-dc64-44be-b016-aa234bc01c6d"
      },
      "execution_count": 27,
      "outputs": [
        {
          "output_type": "stream",
          "name": "stdout",
          "text": [
            "113\n"
          ]
        }
      ]
    },
    {
      "cell_type": "markdown",
      "source": [
        "Practical Questions:\n"
      ],
      "metadata": {
        "id": "7VlMBNpM-fTc"
      }
    },
    {
      "cell_type": "markdown",
      "source": [
        " 1. Write a Python function that takes a list of numbers as input and returns the sum of all even numbers in the list.\n",
        "\n"
      ],
      "metadata": {
        "id": "Rojong-5-hck"
      }
    },
    {
      "cell_type": "code",
      "source": [
        "def sum_even_numbers(n):\n",
        "    return sum(num for num in n if num % 2 == 0)\n",
        "\n",
        "print(sum_even_numbers([1, 2, 3, 4, 5, 6]))"
      ],
      "metadata": {
        "colab": {
          "base_uri": "https://localhost:8080/"
        },
        "id": "hwJsa_rC_jcI",
        "outputId": "2a5c5e1c-06b2-46b1-d37a-6246155178d3"
      },
      "execution_count": 38,
      "outputs": [
        {
          "output_type": "stream",
          "name": "stdout",
          "text": [
            "12\n"
          ]
        }
      ]
    },
    {
      "cell_type": "markdown",
      "source": [
        " 2. Create a Python function that accepts a string and returns the reverse of that string.\n"
      ],
      "metadata": {
        "id": "cHpswWYXCALY"
      }
    },
    {
      "cell_type": "code",
      "source": [
        "def reverse_string(s):\n",
        "  return s[::-1]\n",
        "reverse_string(\"jaaN \")"
      ],
      "metadata": {
        "colab": {
          "base_uri": "https://localhost:8080/",
          "height": 36
        },
        "id": "K8h0kA2ZCDvU",
        "outputId": "0f405f5b-f1db-45dc-85be-aeb1ed40d8e7"
      },
      "execution_count": 40,
      "outputs": [
        {
          "output_type": "execute_result",
          "data": {
            "text/plain": [
              "' Naaj'"
            ],
            "application/vnd.google.colaboratory.intrinsic+json": {
              "type": "string"
            }
          },
          "metadata": {},
          "execution_count": 40
        }
      ]
    },
    {
      "cell_type": "markdown",
      "source": [
        " 3. Implement a Python function that takes a list of integers and returns a new list containing the squares of each number.\n",
        "\n"
      ],
      "metadata": {
        "id": "hkeGOelxCuiw"
      }
    },
    {
      "cell_type": "code",
      "source": [
        "def square_list(numbers):\n",
        "    return [num**2 for num in numbers]\n",
        "square_list([1,2,3,4,5])\n"
      ],
      "metadata": {
        "colab": {
          "base_uri": "https://localhost:8080/"
        },
        "id": "5qrm7wcjClmq",
        "outputId": "65571443-4e52-404a-e069-978908857126"
      },
      "execution_count": 42,
      "outputs": [
        {
          "output_type": "execute_result",
          "data": {
            "text/plain": [
              "[1, 4, 9, 16, 25]"
            ]
          },
          "metadata": {},
          "execution_count": 42
        }
      ]
    },
    {
      "cell_type": "code",
      "source": [
        "def square_list(numbers):\n",
        "    return list(map(lambda x: x**2, numbers))\n",
        "square_list([1,2,3,4,5])\n"
      ],
      "metadata": {
        "colab": {
          "base_uri": "https://localhost:8080/"
        },
        "id": "3iuTPAqFELv0",
        "outputId": "1ddd1c07-931d-4ff4-b249-8ad5d9837f41"
      },
      "execution_count": 43,
      "outputs": [
        {
          "output_type": "execute_result",
          "data": {
            "text/plain": [
              "[1, 4, 9, 16, 25]"
            ]
          },
          "metadata": {},
          "execution_count": 43
        }
      ]
    },
    {
      "cell_type": "markdown",
      "source": [
        " 4. Write a Python function that checks if a given number is prime or not from 1 to 200.\n"
      ],
      "metadata": {
        "id": "hRnZta8kFgrh"
      }
    },
    {
      "cell_type": "code",
      "source": [
        "def prime(n):\n",
        "  if n < 2 :\n",
        "    return False\n",
        "  for i in range(2,int(n**0.5)+1):\n",
        "    if n % i == 0:\n",
        "      return False\n",
        "    return True\n",
        "for i in range(1,201) :\n",
        "  if prime(i):\n",
        "    print(i)"
      ],
      "metadata": {
        "colab": {
          "base_uri": "https://localhost:8080/"
        },
        "id": "v4ny9182FFYr",
        "outputId": "ccf57d27-2aed-4214-ddd8-7478f35ce09a"
      },
      "execution_count": 52,
      "outputs": [
        {
          "output_type": "stream",
          "name": "stdout",
          "text": [
            "5\n",
            "7\n",
            "9\n",
            "11\n",
            "13\n",
            "15\n",
            "17\n",
            "19\n",
            "21\n",
            "23\n",
            "25\n",
            "27\n",
            "29\n",
            "31\n",
            "33\n",
            "35\n",
            "37\n",
            "39\n",
            "41\n",
            "43\n",
            "45\n",
            "47\n",
            "49\n",
            "51\n",
            "53\n",
            "55\n",
            "57\n",
            "59\n",
            "61\n",
            "63\n",
            "65\n",
            "67\n",
            "69\n",
            "71\n",
            "73\n",
            "75\n",
            "77\n",
            "79\n",
            "81\n",
            "83\n",
            "85\n",
            "87\n",
            "89\n",
            "91\n",
            "93\n",
            "95\n",
            "97\n",
            "99\n",
            "101\n",
            "103\n",
            "105\n",
            "107\n",
            "109\n",
            "111\n",
            "113\n",
            "115\n",
            "117\n",
            "119\n",
            "121\n",
            "123\n",
            "125\n",
            "127\n",
            "129\n",
            "131\n",
            "133\n",
            "135\n",
            "137\n",
            "139\n",
            "141\n",
            "143\n",
            "145\n",
            "147\n",
            "149\n",
            "151\n",
            "153\n",
            "155\n",
            "157\n",
            "159\n",
            "161\n",
            "163\n",
            "165\n",
            "167\n",
            "169\n",
            "171\n",
            "173\n",
            "175\n",
            "177\n",
            "179\n",
            "181\n",
            "183\n",
            "185\n",
            "187\n",
            "189\n",
            "191\n",
            "193\n",
            "195\n",
            "197\n",
            "199\n"
          ]
        }
      ]
    },
    {
      "cell_type": "markdown",
      "source": [
        " 5. Create an iterator class in Python that generates the Fibonacci sequence up to a specified number of terms\n"
      ],
      "metadata": {
        "id": "uJBEj06qHHsF"
      }
    },
    {
      "cell_type": "code",
      "source": [
        "class FibonacciIterator:\n",
        "    def __init__(self, max_terms):\n",
        "        self.max_terms = max_terms  # Total number of terms to generate\n",
        "        self.count = 0              # Counter to track number of terms generated\n",
        "        self.a = 0                  # First Fibonacci number\n",
        "        self.b = 1                  # Second Fibonacci number\n",
        "\n",
        "    def __iter__(self):\n",
        "        return self  # The iterator object itself\n",
        "\n",
        "    def __next__(self):\n",
        "        if self.count >= self.max_terms:\n",
        "            raise StopIteration  # Stop when the desired number of terms is reached\n",
        "\n",
        "        if self.count == 0:\n",
        "            self.count += 1\n",
        "            return self.a\n",
        "        elif self.count == 1:\n",
        "            self.count += 1\n",
        "            return self.b\n",
        "\n",
        "        # Calculate next Fibonacci number\n",
        "        next_fib = self.a + self.b\n",
        "        self.a, self.b = self.b, next_fib\n",
        "        self.count += 1\n",
        "        return next_fib\n",
        "fib = FibonacciIterator(10)  # Generate 10 terms of Fibonacci\n",
        "\n",
        "for num in fib:\n",
        "    print(num)\n"
      ],
      "metadata": {
        "colab": {
          "base_uri": "https://localhost:8080/"
        },
        "id": "Oq4qrjpiJvmj",
        "outputId": "9ac927c6-5442-4d85-9b01-d3cb8502fa5d"
      },
      "execution_count": 69,
      "outputs": [
        {
          "output_type": "stream",
          "name": "stdout",
          "text": [
            "0\n",
            "1\n",
            "1\n",
            "2\n",
            "3\n",
            "5\n",
            "8\n",
            "13\n",
            "21\n",
            "34\n"
          ]
        }
      ]
    },
    {
      "cell_type": "markdown",
      "source": [
        " 6. Write a generator function in Python that yields the powers of 2 up to a given exponent.\n"
      ],
      "metadata": {
        "id": "3pnXOu1nLGXd"
      }
    },
    {
      "cell_type": "code",
      "source": [
        "def powers_of_two(n):\n",
        "    for i in range(n + 1):\n",
        "        yield 2**i\n",
        "\n",
        "for val in powers_of_two(5):\n",
        "    print(val)\n",
        "\n"
      ],
      "metadata": {
        "colab": {
          "base_uri": "https://localhost:8080/"
        },
        "id": "AbO8qWbwLH4t",
        "outputId": "00e132bd-2c4e-4420-ffeb-79401982db99"
      },
      "execution_count": 70,
      "outputs": [
        {
          "output_type": "stream",
          "name": "stdout",
          "text": [
            "1\n",
            "2\n",
            "4\n",
            "8\n",
            "16\n",
            "32\n"
          ]
        }
      ]
    },
    {
      "cell_type": "markdown",
      "source": [
        " 8. Use a lambda function in Python to sort a list of tuples based on the second element of each tuple.\n"
      ],
      "metadata": {
        "id": "wt-JtVvOMLmD"
      }
    },
    {
      "cell_type": "code",
      "source": [
        "data = [(1, 5), (3, 1), (2, 8), (4, 2)]\n",
        "sorted_data = sorted(data, key=lambda x: x[1])\n",
        "print(sorted_data)\n",
        "\n"
      ],
      "metadata": {
        "colab": {
          "base_uri": "https://localhost:8080/"
        },
        "id": "-U7DqkM-MNNW",
        "outputId": "864da59a-a9f3-47e5-e86e-b7b7fe92e437"
      },
      "execution_count": 73,
      "outputs": [
        {
          "output_type": "stream",
          "name": "stdout",
          "text": [
            "[(3, 1), (4, 2), (1, 5), (2, 8)]\n"
          ]
        }
      ]
    },
    {
      "cell_type": "markdown",
      "source": [
        " 9. Write a Python program that uses map() to convert a list of temperatures from Celsius to Fahrenheit.\n"
      ],
      "metadata": {
        "id": "trxjr3TlMe6b"
      }
    },
    {
      "cell_type": "code",
      "source": [
        "celsius = [0, 20, 37, 100]\n",
        "fahrenheit = list(map(lambda c: (c * 9/5) + 32, celsius))\n",
        "print(fahrenheit)\n",
        "\n"
      ],
      "metadata": {
        "colab": {
          "base_uri": "https://localhost:8080/"
        },
        "id": "TZ8zbX9KMhgp",
        "outputId": "1953b0e4-0f64-4dce-f10d-8785a7910993"
      },
      "execution_count": 74,
      "outputs": [
        {
          "output_type": "stream",
          "name": "stdout",
          "text": [
            "[32.0, 68.0, 98.6, 212.0]\n"
          ]
        }
      ]
    },
    {
      "cell_type": "markdown",
      "source": [
        " 10. Create a Python program that uses filter() to remove all the vowels from a given string.\n"
      ],
      "metadata": {
        "id": "5fckZZnMNAfB"
      }
    },
    {
      "cell_type": "code",
      "source": [
        "def remove_vowels(s):\n",
        "    vowels = \"aeiouAEIOU\"\n",
        "    return \"\".join(filter(lambda ch: ch not in vowels, s))\n",
        "\n",
        "# Example\n",
        "print(remove_vowels(\"Hello World\"))"
      ],
      "metadata": {
        "colab": {
          "base_uri": "https://localhost:8080/"
        },
        "id": "Ywdi8SoyNCN0",
        "outputId": "daf53fae-1bc8-4e0d-fdc6-e881e5b1bf59"
      },
      "execution_count": 76,
      "outputs": [
        {
          "output_type": "stream",
          "name": "stdout",
          "text": [
            "Hll Wrld\n"
          ]
        }
      ]
    },
    {
      "cell_type": "code",
      "source": [
        "# Data: [Order Number, Book Title/Author, Quantity, Price per Item]\n",
        "orders = [\n",
        "    [34587, \"Learning Python, Mark Lutz\", 4, 40.95],\n",
        "    [98762, \"Programming Python, Mark Lutz\", 5, 56.80],\n",
        "    [77226, \"Head First Python, Paul Barry\", 3, 32.95],\n",
        "    [88112, \"Einführung in Python3, Bernd Klein\", 3, 24.99]\n",
        "]\n",
        "\n",
        "# Using map + lambda\n",
        "invoice_totals = list(\n",
        "    map(lambda x: (x[0], x[2] * x[3] if x[2] * x[3] >= 100 else x[2] * x[3] + 10), orders)\n",
        ")\n",
        "\n",
        "print(invoice_totals)"
      ],
      "metadata": {
        "colab": {
          "base_uri": "https://localhost:8080/"
        },
        "id": "5-u7cupRPPpo",
        "outputId": "ab188ece-7670-42b8-de2d-c0c4ea329650"
      },
      "execution_count": 77,
      "outputs": [
        {
          "output_type": "stream",
          "name": "stdout",
          "text": [
            "[(34587, 163.8), (98762, 284.0), (77226, 108.85000000000001), (88112, 84.97)]\n"
          ]
        }
      ]
    }
  ]
}