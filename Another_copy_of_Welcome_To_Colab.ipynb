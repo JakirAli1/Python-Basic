{
  "cells": [
    {
      "cell_type": "markdown",
      "source": [
        " Python Basic  Quastion\n"
      ],
      "metadata": {
        "id": "3cOtzgeDsnI7"
      }
    },
    {
      "cell_type": "markdown",
      "source": [
        "1. What is Python, and why is it popular?\n",
        "\n",
        "      -> Python is an easy and simple programming language. It is popular because it is easy to read/write and has many libraries.\n"
      ],
      "metadata": {
        "id": "ZbBk4MQbtAqn"
      }
    },
    {
      "cell_type": "markdown",
      "source": [
        "2. What is an interpreter in Python?\n",
        "\n",
        "   ->  The interpreter is a program that runs Python code line by line.\n",
        "\n"
      ],
      "metadata": {
        "id": "5WRAatJbteAl"
      }
    },
    {
      "cell_type": "markdown",
      "source": [
        "3. What are pre-defined keywords in Python?\n",
        "\n",
        "   ->  Keywords are special words with a fixed meaning in Python, like if, else, for, while.\n"
      ],
      "metadata": {
        "id": "-K5r8vAxtxZX"
      }
    },
    {
      "cell_type": "markdown",
      "source": [
        "4. Can keywords be used as variable names?\n",
        "\n",
        "   ->  No, keywords cannot be used as variable names.\n",
        "\n"
      ],
      "metadata": {
        "id": "ixquGy9TuGP2"
      }
    },
    {
      "cell_type": "markdown",
      "source": [
        "5. What is mutability in Python?\n",
        "\n",
        "  -> mutability -> whether an object can be changed after creation.\n",
        "\n"
      ],
      "metadata": {
        "id": "o9a9N-Wpu2tx"
      }
    },
    {
      "cell_type": "markdown",
      "source": [
        "6. Why are lists mutable, but tuples are immutable?\n",
        "\n",
        "   -> List -  mutable -> can be changed.\n",
        "\n",
        "      Tuple - immutable -> cannot be changed.\n"
      ],
      "metadata": {
        "id": "uoPoxA6ZvamS"
      }
    },
    {
      "cell_type": "markdown",
      "source": [
        "7. What is the difference between “==” and “is” operators in Python?\n",
        "\n",
        "   -> \"==\" -> checks if values are equal.\n",
        "  \n",
        " \"is\" -> checks if objects are in the same memory location.\n",
        "\n",
        "\n"
      ],
      "metadata": {
        "id": "Ix-tMajiwhPi"
      }
    },
    {
      "cell_type": "markdown",
      "source": [
        "8. What are logical operators in Python?\n",
        "  \n",
        "  ->\n",
        "  1 and -> both conditions must be True\n",
        "\n",
        "  2 or -> at least one condition must be True   \n",
        "  3 not -> reverses the condition\n",
        "\n",
        "\n"
      ],
      "metadata": {
        "id": "MCx4n72gxhWA"
      }
    },
    {
      "cell_type": "markdown",
      "source": [
        "9. What is the difference between implicit and explicit type casting?\n",
        "\n",
        " -> Type casting -> converting one data type into another.\n"
      ],
      "metadata": {
        "id": "I7xZAICtyGjd"
      }
    },
    {
      "cell_type": "markdown",
      "source": [
        "10. What is the difference between implicit and explicit type casting?\n",
        "\n",
        "  -> Implicit -> Data type converts automatically .\n",
        "\n",
        "  Explicit -> Data type convert using functions (int(), float(), str()).\n",
        "\n",
        "\n",
        "\n"
      ],
      "metadata": {
        "id": "PCmjOzRYzAXB"
      }
    },
    {
      "cell_type": "markdown",
      "source": [
        "11. What is the purpose of conditional statements in Python?\n",
        "\n",
        "  -> They allow the program to make decisions (if, elif, else).\n",
        "\n"
      ],
      "metadata": {
        "id": "Ldmjv6jTzzrd"
      }
    },
    {
      "cell_type": "markdown",
      "source": [
        "12. How does the elif statement work?\n",
        "\n",
        "  -> elif -> \"else if\" ->  used to check multiple conditions one by one.\n",
        "\n"
      ],
      "metadata": {
        "id": "GPS7Lnmt0BM3"
      }
    },
    {
      "cell_type": "markdown",
      "source": [
        "13. What is the difference between for and while loops?\n",
        "\n",
        "   -> for loop -> used when the number of iterations is known.\n",
        "  \n",
        "   while loop -> used when iterations depend on a condition.\n",
        "\n"
      ],
      "metadata": {
        "id": "Itq6ttf40Ps9"
      }
    },
    {
      "cell_type": "markdown",
      "source": [
        "14. Describe a scenario where a while loop is more suitable than a for loop.\n",
        "\n",
        "   -> Example:- Keep asking the user for a password until it is correct.\n",
        "  Unknown number of attempts - use while loop.\n"
      ],
      "metadata": {
        "id": "1SVGJ5dx01Vf"
      }
    },
    {
      "cell_type": "code",
      "source": [
        "\n",
        "\n",
        "\n",
        "\n",
        "\n",
        "\n",
        "\n",
        "\n",
        "\n",
        "\n"
      ],
      "metadata": {
        "id": "7hCv0Ylh2t8y"
      },
      "execution_count": null,
      "outputs": []
    },
    {
      "cell_type": "markdown",
      "source": [
        "Practical Quastion"
      ],
      "metadata": {
        "id": "iX7I0Z0sNo-_"
      }
    },
    {
      "cell_type": "code",
      "source": [
        "\n",
        "# Q. 1\n",
        "\n",
        "print(\"Hello world !! \")\n"
      ],
      "metadata": {
        "colab": {
          "base_uri": "https://localhost:8080/"
        },
        "id": "VdR0NVB03HoW",
        "outputId": "5b67c009-9dc2-48fc-8eb6-7b5dc6afaf20"
      },
      "execution_count": null,
      "outputs": [
        {
          "output_type": "stream",
          "name": "stdout",
          "text": [
            "Hello world !! \n"
          ]
        }
      ]
    },
    {
      "cell_type": "code",
      "source": [
        "\n",
        "# Q. 2\n",
        "\n",
        "name = \"Jakir Ali \"\n",
        "age = 18\n",
        "\n",
        "print(\"Name ->\", name)\n",
        "print(\"Age -> \", age)"
      ],
      "metadata": {
        "colab": {
          "base_uri": "https://localhost:8080/"
        },
        "id": "JoAbwTWL3fke",
        "outputId": "199158cb-9b7b-40e7-8531-273b7fe21255"
      },
      "execution_count": null,
      "outputs": [
        {
          "output_type": "stream",
          "name": "stdout",
          "text": [
            "Name -> Jakir Ali \n",
            "Age ->  18\n"
          ]
        }
      ]
    },
    {
      "cell_type": "code",
      "source": [
        "\n",
        "\n",
        "\n",
        " help(\"keywords\")"
      ],
      "metadata": {
        "colab": {
          "base_uri": "https://localhost:8080/"
        },
        "id": "lol4AXhH4PmK",
        "outputId": "71d6da57-7256-4a2f-c3ab-03f42179af7c"
      },
      "execution_count": null,
      "outputs": [
        {
          "output_type": "stream",
          "name": "stdout",
          "text": [
            "\n",
            "Here is a list of the Python keywords.  Enter any keyword to get more help.\n",
            "\n",
            "False               class               from                or\n",
            "None                continue            global              pass\n",
            "True                def                 if                  raise\n",
            "and                 del                 import              return\n",
            "as                  elif                in                  try\n",
            "assert              else                is                  while\n",
            "async               except              lambda              with\n",
            "await               finally             nonlocal            yield\n",
            "break               for                 not                 \n",
            "\n"
          ]
        }
      ]
    },
    {
      "cell_type": "code",
      "source": [
        "# Q. 4\n",
        "\n",
        "\n",
        "import keyword\n",
        "word = input(\"Enter a word : \")\n",
        "if keyword . iskeyword(word):\n",
        "  print(word, \"is a python keyword. \")\n",
        "else:\n",
        "  print(word, \"is not a python keyword. \")\n"
      ],
      "metadata": {
        "colab": {
          "base_uri": "https://localhost:8080/"
        },
        "id": "Gt_etyio4m8C",
        "outputId": "63f39c8a-1f61-4582-f028-3caac14ea5f4"
      },
      "execution_count": null,
      "outputs": [
        {
          "output_type": "stream",
          "name": "stdout",
          "text": [
            "Enter a word : print\n",
            "print is not a python keyword. \n"
          ]
        }
      ]
    },
    {
      "cell_type": "code",
      "source": [
        "import keyword\n",
        "word = input(\"Enter a word : \")\n",
        "if keyword . iskeyword(word):\n",
        "  print(word, \"is a python keyword. \")\n",
        "else:\n",
        "  print(word, \"is not a python keyword. \")\n"
      ],
      "metadata": {
        "colab": {
          "base_uri": "https://localhost:8080/"
        },
        "id": "SmAIzujl7LEN",
        "outputId": "e848c627-8f1e-46ff-b74f-3739deb7b8ac"
      },
      "execution_count": null,
      "outputs": [
        {
          "output_type": "stream",
          "name": "stdout",
          "text": [
            "Enter a word : for\n",
            "for is a python keyword. \n"
          ]
        }
      ]
    },
    {
      "cell_type": "code",
      "source": [],
      "metadata": {
        "id": "o2OIx7-48C1u"
      },
      "execution_count": null,
      "outputs": []
    },
    {
      "cell_type": "code",
      "source": [
        "# Q. 5\n",
        "\n",
        "\n",
        "list1 = [1,3,4,\"jakir\",\"ali\",\"pwskills\"]\n",
        "list1"
      ],
      "metadata": {
        "colab": {
          "base_uri": "https://localhost:8080/"
        },
        "id": "Za6veGTG8Tgw",
        "outputId": "5d0add1b-595f-4692-ccd5-4c157079e76b"
      },
      "execution_count": null,
      "outputs": [
        {
          "output_type": "execute_result",
          "data": {
            "text/plain": [
              "[1, 3, 4, 'jakir', 'ali', 'pwskills']"
            ]
          },
          "metadata": {},
          "execution_count": 19
        }
      ]
    },
    {
      "cell_type": "code",
      "source": [
        "list1.append(54)"
      ],
      "metadata": {
        "id": "QosRQYjV9EgY"
      },
      "execution_count": null,
      "outputs": []
    },
    {
      "cell_type": "code",
      "source": [
        "list1"
      ],
      "metadata": {
        "colab": {
          "base_uri": "https://localhost:8080/"
        },
        "id": "c3UClsqG93jT",
        "outputId": "55c74704-2f4a-427d-f039-9137624286f6"
      },
      "execution_count": null,
      "outputs": [
        {
          "output_type": "execute_result",
          "data": {
            "text/plain": [
              "[1, 3, 4, 'jakir', 'ali', 'pwskills', 54]"
            ]
          },
          "metadata": {},
          "execution_count": 21
        }
      ]
    },
    {
      "cell_type": "code",
      "source": [
        "\n",
        "\n",
        "\n",
        "# Q.6\n",
        "\n",
        "# Arithmetic operator\n",
        "a = 5\n",
        "b = 8\n",
        "a+b"
      ],
      "metadata": {
        "colab": {
          "base_uri": "https://localhost:8080/"
        },
        "id": "fEGfny6R-XyR",
        "outputId": "6a534a07-b79c-4dc0-f150-eaec25ad93bc"
      },
      "execution_count": null,
      "outputs": [
        {
          "output_type": "execute_result",
          "data": {
            "text/plain": [
              "13"
            ]
          },
          "metadata": {},
          "execution_count": 25
        }
      ]
    },
    {
      "cell_type": "code",
      "source": [
        "a - b"
      ],
      "metadata": {
        "colab": {
          "base_uri": "https://localhost:8080/"
        },
        "id": "qp5NoRo0_wqA",
        "outputId": "257d801b-a5dc-4b43-a7c8-eb80abacff0d"
      },
      "execution_count": null,
      "outputs": [
        {
          "output_type": "execute_result",
          "data": {
            "text/plain": [
              "-3"
            ]
          },
          "metadata": {},
          "execution_count": 26
        }
      ]
    },
    {
      "cell_type": "code",
      "source": [
        "a * b"
      ],
      "metadata": {
        "colab": {
          "base_uri": "https://localhost:8080/"
        },
        "id": "XzOzARU9_zld",
        "outputId": "175298c0-3a68-42f4-a1e8-4694e21cad0d"
      },
      "execution_count": null,
      "outputs": [
        {
          "output_type": "execute_result",
          "data": {
            "text/plain": [
              "40"
            ]
          },
          "metadata": {},
          "execution_count": 27
        }
      ]
    },
    {
      "cell_type": "code",
      "source": [
        " a = int(input(\"Enter a first number :\"))\n",
        " b = int(input(\"Enter a second number : \"))\n",
        " print(\"addition a+b : \" , a+b)\n",
        " print(\"substraction a-b :\", a-b)\n",
        " print(\"multiplication a*b :\", a*b)\n",
        " print(\"division a/b : \" , a/b)\n",
        " print(\"flor division a//b : \" , a//b)\n",
        " print(\"modulus a%b : \" , a%b)\n",
        " print(\"exponent a**b : \" , a**b)\n"
      ],
      "metadata": {
        "colab": {
          "base_uri": "https://localhost:8080/"
        },
        "id": "exBl1-Qc_3mY",
        "outputId": "2dc88846-1172-4ca3-b6fd-ae378ac408c4"
      },
      "execution_count": null,
      "outputs": [
        {
          "output_type": "stream",
          "name": "stdout",
          "text": [
            "Enter a first number :4\n",
            "Enter a second number : 5\n",
            "addition a+b :  9\n",
            "substraction a-b : -1\n",
            "multiplication a*b : 20\n",
            "division a/b :  0.8\n",
            "flor division a//b :  0\n",
            "modulus a%b :  4\n",
            "exponent a**b :  1024\n"
          ]
        }
      ]
    },
    {
      "cell_type": "code",
      "source": [
        "# logical operater\n",
        "\n",
        "# Q. 8"
      ],
      "metadata": {
        "id": "PbhLTSR_Ckr-"
      },
      "execution_count": null,
      "outputs": []
    },
    {
      "cell_type": "code",
      "source": [
        "True and True"
      ],
      "metadata": {
        "colab": {
          "base_uri": "https://localhost:8080/"
        },
        "id": "En0yGbJ5DZxK",
        "outputId": "1787e5f0-1450-48f4-c2c2-c912281ef419"
      },
      "execution_count": null,
      "outputs": [
        {
          "output_type": "execute_result",
          "data": {
            "text/plain": [
              "True"
            ]
          },
          "metadata": {},
          "execution_count": 31
        }
      ]
    },
    {
      "cell_type": "code",
      "source": [
        "True and False"
      ],
      "metadata": {
        "colab": {
          "base_uri": "https://localhost:8080/"
        },
        "id": "iMRHNee_DkTn",
        "outputId": "a8ba3836-1881-42fe-9229-d288d00458dc"
      },
      "execution_count": null,
      "outputs": [
        {
          "output_type": "execute_result",
          "data": {
            "text/plain": [
              "False"
            ]
          },
          "metadata": {},
          "execution_count": 32
        }
      ]
    },
    {
      "cell_type": "code",
      "source": [
        "True or True"
      ],
      "metadata": {
        "colab": {
          "base_uri": "https://localhost:8080/"
        },
        "id": "5fhY5x4JDri5",
        "outputId": "8b32ced2-3906-48a2-dec1-a0100eb9e3ff"
      },
      "execution_count": null,
      "outputs": [
        {
          "output_type": "execute_result",
          "data": {
            "text/plain": [
              "True"
            ]
          },
          "metadata": {},
          "execution_count": 33
        }
      ]
    },
    {
      "cell_type": "code",
      "source": [
        "True or False"
      ],
      "metadata": {
        "colab": {
          "base_uri": "https://localhost:8080/"
        },
        "id": "j5XlwD-LDyOT",
        "outputId": "c4c9a937-f899-46d6-e994-2c5718c881d0"
      },
      "execution_count": null,
      "outputs": [
        {
          "output_type": "execute_result",
          "data": {
            "text/plain": [
              "True"
            ]
          },
          "metadata": {},
          "execution_count": 34
        }
      ]
    },
    {
      "cell_type": "code",
      "source": [
        "# type casting\n",
        "# Q. 9"
      ],
      "metadata": {
        "id": "NivvkXzeD4AS"
      },
      "execution_count": null,
      "outputs": []
    },
    {
      "cell_type": "code",
      "source": [
        "a = input( \"Enter a number : \")\n",
        "a"
      ],
      "metadata": {
        "colab": {
          "base_uri": "https://localhost:8080/",
          "height": 53
        },
        "id": "mEhDQxCzFBht",
        "outputId": "adc9ca49-0cf1-4352-e2ca-6b6897ec566a"
      },
      "execution_count": null,
      "outputs": [
        {
          "name": "stdout",
          "output_type": "stream",
          "text": [
            "Enter a number : 6\n"
          ]
        },
        {
          "output_type": "execute_result",
          "data": {
            "text/plain": [
              "'6'"
            ],
            "application/vnd.google.colaboratory.intrinsic+json": {
              "type": "string"
            }
          },
          "metadata": {},
          "execution_count": 36
        }
      ]
    },
    {
      "cell_type": "code",
      "source": [
        "int(a)"
      ],
      "metadata": {
        "colab": {
          "base_uri": "https://localhost:8080/"
        },
        "id": "W1LdI11GFVN-",
        "outputId": "9bc9d762-0946-42ef-a222-c077074e2d04"
      },
      "execution_count": null,
      "outputs": [
        {
          "output_type": "execute_result",
          "data": {
            "text/plain": [
              "6"
            ]
          },
          "metadata": {},
          "execution_count": 37
        }
      ]
    },
    {
      "cell_type": "code",
      "source": [
        "float(a)"
      ],
      "metadata": {
        "colab": {
          "base_uri": "https://localhost:8080/"
        },
        "id": "QOxKjTXMFbH6",
        "outputId": "23bda441-7912-4d23-fd36-f4b61850e111"
      },
      "execution_count": null,
      "outputs": [
        {
          "output_type": "execute_result",
          "data": {
            "text/plain": [
              "6.0"
            ]
          },
          "metadata": {},
          "execution_count": 38
        }
      ]
    },
    {
      "cell_type": "code",
      "source": [
        "bool(a)"
      ],
      "metadata": {
        "colab": {
          "base_uri": "https://localhost:8080/"
        },
        "id": "9HC1isXdFgcQ",
        "outputId": "c2e412df-1143-43ce-e542-1ce23b1252db"
      },
      "execution_count": null,
      "outputs": [
        {
          "output_type": "execute_result",
          "data": {
            "text/plain": [
              "True"
            ]
          },
          "metadata": {},
          "execution_count": 39
        }
      ]
    },
    {
      "cell_type": "code",
      "source": [],
      "metadata": {
        "id": "ptz5xW6OGeXf"
      },
      "execution_count": null,
      "outputs": []
    },
    {
      "cell_type": "code",
      "source": [
        "n = int(input(\"Enter a number : \"))\n",
        "if n < 0:\n",
        "  print(\"the no is negative : \" , n)\n",
        "elif n > 0:\n",
        "  print(\"the no is positive : \", n)\n",
        "else:\n",
        "  print(\"the no is zero \", n)\n"
      ],
      "metadata": {
        "colab": {
          "base_uri": "https://localhost:8080/"
        },
        "id": "llyB3MzAFliZ",
        "outputId": "f84709ea-9483-4484-de52-ee2ad442fafe"
      },
      "execution_count": null,
      "outputs": [
        {
          "output_type": "stream",
          "name": "stdout",
          "text": [
            "Enter a number : 0\n",
            "the no is zero  0\n"
          ]
        }
      ]
    },
    {
      "cell_type": "code",
      "source": [
        "\n",
        "for i in range(11):\n",
        "  print(i)"
      ],
      "metadata": {
        "colab": {
          "base_uri": "https://localhost:8080/"
        },
        "id": "0bwzzRlPH7bR",
        "outputId": "09415ef2-c005-47c6-9e3c-024196fc20e6"
      },
      "execution_count": null,
      "outputs": [
        {
          "output_type": "stream",
          "name": "stdout",
          "text": [
            "0\n",
            "1\n",
            "2\n",
            "3\n",
            "4\n",
            "5\n",
            "6\n",
            "7\n",
            "8\n",
            "9\n",
            "10\n"
          ]
        }
      ]
    },
    {
      "cell_type": "code",
      "source": [
        "# Q. 13\n",
        "\n",
        "list(range(0,50,2))"
      ],
      "metadata": {
        "colab": {
          "base_uri": "https://localhost:8080/"
        },
        "id": "dWcjuFcYKOIM",
        "outputId": "2cb2c2da-8ec5-4816-e212-3e54449cdb4f"
      },
      "execution_count": null,
      "outputs": [
        {
          "output_type": "execute_result",
          "data": {
            "text/plain": [
              "[0,\n",
              " 2,\n",
              " 4,\n",
              " 6,\n",
              " 8,\n",
              " 10,\n",
              " 12,\n",
              " 14,\n",
              " 16,\n",
              " 18,\n",
              " 20,\n",
              " 22,\n",
              " 24,\n",
              " 26,\n",
              " 28,\n",
              " 30,\n",
              " 32,\n",
              " 34,\n",
              " 36,\n",
              " 38,\n",
              " 40,\n",
              " 42,\n",
              " 44,\n",
              " 46,\n",
              " 48]"
            ]
          },
          "metadata": {},
          "execution_count": 64
        }
      ]
    },
    {
      "cell_type": "code",
      "source": [
        "num = int(input(\"Enter a number : \"))\n",
        "fact = 1\n",
        "i = 1\n",
        "while i <= num :\n",
        "  fact *= i\n",
        "  i += 1\n",
        "print(\"Factorial of \" , num , \"is \" , fact )"
      ],
      "metadata": {
        "colab": {
          "base_uri": "https://localhost:8080/"
        },
        "id": "j9hsrqdtNEBr",
        "outputId": "cf7ad7a7-e080-4bfb-9201-b4aa1fe0a21c"
      },
      "execution_count": null,
      "outputs": [
        {
          "output_type": "stream",
          "name": "stdout",
          "text": [
            "Enter a number : 5\n",
            "Factorial of  5 is  120\n"
          ]
        }
      ]
    }
  ],
  "metadata": {
    "colab": {
      "provenance": [],
      "toc_visible": true
    },
    "kernelspec": {
      "display_name": "Python 3",
      "name": "python3"
    }
  },
  "nbformat": 4,
  "nbformat_minor": 0
}