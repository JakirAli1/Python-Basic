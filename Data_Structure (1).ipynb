{
  "nbformat": 4,
  "nbformat_minor": 0,
  "metadata": {
    "colab": {
      "provenance": []
    },
    "kernelspec": {
      "name": "python3",
      "display_name": "Python 3"
    },
    "language_info": {
      "name": "python"
    }
  },
  "cells": [
    {
      "cell_type": "markdown",
      "source": [
        "DATA TYPE AND STRUCTURES QUESTIONS"
      ],
      "metadata": {
        "id": "qfeH5aNWXFoZ"
      }
    },
    {
      "cell_type": "markdown",
      "source": [
        "1. What are data structures, and why are they important?\n",
        "\n",
        "\n",
        "\n",
        "\n",
        "\n",
        "-> Data structures are ways of organizing and storing data so it can be accessed and modified efficiently.\n",
        "\n",
        "Examples:- lists, tuples, sets, dictionaries.\n",
        "\n",
        "Importance:-\n",
        "\n",
        "Improve efficiency of programs.\n",
        "\n",
        "Enable handling of large data.\n",
        "\n",
        "Provide different methods for searching, sorting, and retrieving data.\n",
        "\n"
      ],
      "metadata": {
        "id": "WPng7T-ZO_p3"
      }
    },
    {
      "cell_type": "markdown",
      "source": [
        "Q. 2. Explain the difference between mutable and immutable data types with examples.\n"
      ],
      "metadata": {
        "id": "T3JjASR7PoXE"
      }
    },
    {
      "cell_type": "markdown",
      "source": [
        "Mutable:- Can be changed after creation.\n",
        "\n",
        "Example: List ->\n",
        " a = [1,2,3];\n",
        " a[0] = 10 -> [10,2,3].\n",
        "\n",
        "Immutable:- Cannot be changed after creation.\n",
        "\n",
        "Example: Tuple ->\n",
        " (1,2,3) cannot be modified.\n",
        "\n",
        "String → \"hello\" cannot be changed character-wise.\n",
        "\n",
        "\n"
      ],
      "metadata": {
        "id": "nm3LQZ6xPrq5"
      }
    },
    {
      "cell_type": "markdown",
      "source": [
        "Q. 3. What are the main differences between lists and tuples in Python ?\n",
        "\n",
        "-> List:- Mutable , slower, written with[].\n",
        "\n",
        "Tuples :- Immutable, faster, wrtten with().\n"
      ],
      "metadata": {
        "id": "gEKgU06OQS_C"
      }
    },
    {
      "cell_type": "markdown",
      "source": [
        "Q. 4. Describe how dictionaries store data.\n",
        "\n",
        "-> Dictionaries store data as keyvalue pairs.\n",
        "Internally, they use a hash table.\n",
        "Keys must be unique and immutable, values can be anything.\n"
      ],
      "metadata": {
        "id": "wJ2f2XQ8RoeK"
      }
    },
    {
      "cell_type": "code",
      "source": [
        "#  Examples\n",
        "data = {\"name\": \"Jakir Ali\", \"age\": 18 , \"address\": \"bhopal\"}\n",
        "data"
      ],
      "metadata": {
        "colab": {
          "base_uri": "https://localhost:8080/"
        },
        "id": "TZ_KeJWkSHPJ",
        "outputId": "e9248591-a936-4091-a598-694621a4a5cf"
      },
      "execution_count": 2,
      "outputs": [
        {
          "output_type": "execute_result",
          "data": {
            "text/plain": [
              "{'name': 'Jakir Ali', 'age': 18, 'address': 'bhopal'}"
            ]
          },
          "metadata": {},
          "execution_count": 2
        }
      ]
    },
    {
      "cell_type": "markdown",
      "source": [
        "Q. 5. Why might you use a set instead of a list in Python?\n",
        "\n",
        "Removes duplicate values automatically.\n",
        "\n",
        "Faster membership checking (in).\n",
        "\n",
        "\n",
        "\n",
        "\n",
        "\n"
      ],
      "metadata": {
        "id": "A4NCYCQ4R-9b"
      }
    },
    {
      "cell_type": "code",
      "source": [
        "# Example:\n",
        "\n",
        "set([1,2,2,3])"
      ],
      "metadata": {
        "colab": {
          "base_uri": "https://localhost:8080/"
        },
        "id": "bBN3qnmUTP22",
        "outputId": "969057b9-085f-4ae2-f6ba-b4006f420579"
      },
      "execution_count": 3,
      "outputs": [
        {
          "output_type": "execute_result",
          "data": {
            "text/plain": [
              "{1, 2, 3}"
            ]
          },
          "metadata": {},
          "execution_count": 3
        }
      ]
    },
    {
      "cell_type": "markdown",
      "source": [
        "Q. 6. What is a string in Python, and how is it different from a list?\n",
        "\n",
        "String:- Sequence of characters, immutable.\n",
        "\n",
        "List:- Sequence of elements (any data type), mutable.\n",
        "\n",
        "Example:\n",
        "\n",
        "String: \"hello\"[0] = \"h\" (cannot change).\n",
        "\n",
        "List: [1,2,3][0] = 5 (can change).\n",
        "\n",
        "\n"
      ],
      "metadata": {
        "id": "cC2c_rPGTctb"
      }
    },
    {
      "cell_type": "markdown",
      "source": [
        "Q. 7. How do tuples ensure data integrity in Python?\n",
        "\n",
        "\n",
        "\n",
        "Tuples :- Tuples are immutable, meaning values cannot be changed.\n",
        "\n",
        "Prevents accidental modification of data.\n",
        "\n",
        "Useful for fixed data like coordinates (x,y) or constants.\n",
        "\n",
        "\n"
      ],
      "metadata": {
        "id": "_0_O-HpUVVC4"
      }
    },
    {
      "cell_type": "markdown",
      "source": [
        "Q. 8. What is a hash table, and how does it relate to dictionaries in Python?\n",
        "\n",
        "\n",
        "\n",
        "Hash table:-  Data structure that stores items using a hash function to map keys - indexes.\n",
        "\n",
        "Relation:-  Dictionaries in Python are built on hash tables, making key lookups very fast (O(1) average time).\n",
        "\n",
        "\n"
      ],
      "metadata": {
        "id": "dSvJ-Qr9V0hZ"
      }
    },
    {
      "cell_type": "markdown",
      "source": [
        "\n",
        "Q. 9. Can lists contain different data types in Python?\n",
        "\n",
        "\n",
        "-> Yes, Python lists are heterogeneous.\n",
        "\n",
        "Example:\n",
        "a =  [1, \"hello\", 3.14, True].\n",
        "\n"
      ],
      "metadata": {
        "id": "sXfe5LKuVwRx"
      }
    },
    {
      "cell_type": "code",
      "source": [
        "a =  [1, \"hello\", 3.14, True]\n",
        "\n",
        "a"
      ],
      "metadata": {
        "colab": {
          "base_uri": "https://localhost:8080/"
        },
        "id": "_cAD6SIIWnO9",
        "outputId": "f37437a7-ed1c-46ca-e815-083dfc982143"
      },
      "execution_count": 10,
      "outputs": [
        {
          "output_type": "execute_result",
          "data": {
            "text/plain": [
              "[1, 'hello', 3.14, True]"
            ]
          },
          "metadata": {},
          "execution_count": 10
        }
      ]
    },
    {
      "cell_type": "markdown",
      "source": [
        "Q. 10. Explain why strings are immutable in Python.\n",
        "\n",
        "-> To save memory (reused by multiple variables).\n",
        "\n",
        "To ensure data security (safe for hashing).\n",
        "\n",
        "To avoid accidental modification of text.\n"
      ],
      "metadata": {
        "id": "2AorywS2W1Jt"
      }
    },
    {
      "cell_type": "code",
      "source": [],
      "metadata": {
        "id": "z-M1AbwhWpMN"
      },
      "execution_count": null,
      "outputs": []
    },
    {
      "cell_type": "code",
      "source": [],
      "metadata": {
        "id": "7228akKNYDlu"
      },
      "execution_count": null,
      "outputs": []
    },
    {
      "cell_type": "code",
      "source": [],
      "metadata": {
        "id": "yyVdztNgYEhv"
      },
      "execution_count": null,
      "outputs": []
    },
    {
      "cell_type": "markdown",
      "source": [
        "PRACTICAL QUESTIONS"
      ],
      "metadata": {
        "id": "d9UeV-VJXxCA"
      }
    },
    {
      "cell_type": "code",
      "source": [],
      "metadata": {
        "id": "K9wunzsKYGzF"
      },
      "execution_count": null,
      "outputs": []
    },
    {
      "cell_type": "code",
      "source": [],
      "metadata": {
        "id": "7p0XDPeBYGvs"
      },
      "execution_count": null,
      "outputs": []
    },
    {
      "cell_type": "markdown",
      "source": [
        " Q. 1. Write a code to create a string with your name and print it.\n",
        ""
      ],
      "metadata": {
        "id": "lkPPN0NaYI8Q"
      }
    },
    {
      "cell_type": "code",
      "source": [
        "name = \"Jakir Ali\"\n",
        "print(name)"
      ],
      "metadata": {
        "colab": {
          "base_uri": "https://localhost:8080/"
        },
        "id": "Q55UYvArZ3ZS",
        "outputId": "e1fc0147-3e45-483b-d8e2-1f59655e4f92"
      },
      "execution_count": 11,
      "outputs": [
        {
          "output_type": "stream",
          "name": "stdout",
          "text": [
            "Jakir Ali\n"
          ]
        }
      ]
    },
    {
      "cell_type": "markdown",
      "source": [
        "Q. 2. Write a code to find the length of the string \"Hello World\"."
      ],
      "metadata": {
        "id": "FIXUJ2TsapOc"
      }
    },
    {
      "cell_type": "code",
      "source": [
        "a = \"Hello World\"\n",
        "len(a)"
      ],
      "metadata": {
        "colab": {
          "base_uri": "https://localhost:8080/"
        },
        "id": "Z0KNvGfQaY3F",
        "outputId": "94e9f4b2-b50b-40d2-b395-1095110f7a66"
      },
      "execution_count": 12,
      "outputs": [
        {
          "output_type": "execute_result",
          "data": {
            "text/plain": [
              "11"
            ]
          },
          "metadata": {},
          "execution_count": 12
        }
      ]
    },
    {
      "cell_type": "markdown",
      "source": [
        "Q. 3. Write a code to slice the first 3 characters from the string \"Python Programming\"."
      ],
      "metadata": {
        "id": "jmFg5LxXa1Ol"
      }
    },
    {
      "cell_type": "code",
      "source": [
        "a = \"Python Programming\"\n",
        "a[: 3]"
      ],
      "metadata": {
        "colab": {
          "base_uri": "https://localhost:8080/",
          "height": 36
        },
        "id": "qvCBvDusantH",
        "outputId": "34b1bbcd-fb2a-421a-a761-3a0b892e86f7"
      },
      "execution_count": 13,
      "outputs": [
        {
          "output_type": "execute_result",
          "data": {
            "text/plain": [
              "'Pyt'"
            ],
            "application/vnd.google.colaboratory.intrinsic+json": {
              "type": "string"
            }
          },
          "metadata": {},
          "execution_count": 13
        }
      ]
    },
    {
      "cell_type": "markdown",
      "source": [],
      "metadata": {
        "id": "ZeGCFVZmb9P0"
      }
    },
    {
      "cell_type": "markdown",
      "source": [
        "Q. 4.  Write a code to convert the string \"hello\" to uppercase.\n"
      ],
      "metadata": {
        "id": "rjnycuRYcDhk"
      }
    },
    {
      "cell_type": "code",
      "source": [
        "a = \"hello\"\n",
        "a.upper()\n"
      ],
      "metadata": {
        "colab": {
          "base_uri": "https://localhost:8080/",
          "height": 36
        },
        "id": "6y2S5RGBbS-X",
        "outputId": "609ade91-2629-4438-8b73-ac0eb9211a2a"
      },
      "execution_count": 14,
      "outputs": [
        {
          "output_type": "execute_result",
          "data": {
            "text/plain": [
              "'HELLO'"
            ],
            "application/vnd.google.colaboratory.intrinsic+json": {
              "type": "string"
            }
          },
          "metadata": {},
          "execution_count": 14
        }
      ]
    },
    {
      "cell_type": "markdown",
      "source": [
        "Q. 5. Write a code to replace the word \"apple\" with \"orange\" in the string \"I like apple\"\n"
      ],
      "metadata": {
        "id": "lSxzX34FcSN1"
      }
    },
    {
      "cell_type": "code",
      "source": [
        "s = \"I like apple\"\n",
        "print(s.replace(\"apple\",\"orange\"))\n"
      ],
      "metadata": {
        "colab": {
          "base_uri": "https://localhost:8080/"
        },
        "id": "9IBxRukecaOZ",
        "outputId": "9c764cf3-5527-4484-b543-78669006d561"
      },
      "execution_count": 19,
      "outputs": [
        {
          "output_type": "stream",
          "name": "stdout",
          "text": [
            "I like orange\n"
          ]
        }
      ]
    },
    {
      "cell_type": "markdown",
      "source": [
        "Q.6.  Write a code to create a list with numbers 1 to 5 and print it.\n"
      ],
      "metadata": {
        "id": "gzp4-Dambgnp"
      }
    },
    {
      "cell_type": "code",
      "source": [
        "list1 = [1,2,3,4,5]\n",
        "print(list1)"
      ],
      "metadata": {
        "colab": {
          "base_uri": "https://localhost:8080/"
        },
        "id": "vttbZyOPbezG",
        "outputId": "14227189-6055-40b9-8b47-1e48fa15611b"
      },
      "execution_count": 20,
      "outputs": [
        {
          "output_type": "stream",
          "name": "stdout",
          "text": [
            "[1, 2, 3, 4, 5]\n"
          ]
        }
      ]
    },
    {
      "cell_type": "markdown",
      "source": [],
      "metadata": {
        "id": "bUNClEEhecVJ"
      }
    },
    {
      "cell_type": "markdown",
      "source": [
        "Q. 7.  Write a code to append the number 10 to the list [1, 2, 3, 4]\n"
      ],
      "metadata": {
        "id": "l2te32G6ec_R"
      }
    },
    {
      "cell_type": "code",
      "source": [
        "lis = [1,2,3,4]\n",
        "lis.append(10)\n",
        "lis"
      ],
      "metadata": {
        "colab": {
          "base_uri": "https://localhost:8080/"
        },
        "id": "-K7nuxB2ea8o",
        "outputId": "308dee8c-f550-4beb-840c-0df5950865c4"
      },
      "execution_count": 21,
      "outputs": [
        {
          "output_type": "execute_result",
          "data": {
            "text/plain": [
              "[1, 2, 3, 4, 10]"
            ]
          },
          "metadata": {},
          "execution_count": 21
        }
      ]
    },
    {
      "cell_type": "markdown",
      "source": [],
      "metadata": {
        "id": "auPxQhPLe0hE"
      }
    },
    {
      "cell_type": "markdown",
      "source": [
        "\n",
        "\n",
        "\n",
        "Q. 8. Write a code to remove the number 3 from the list [1, 2, 3, 4, 5]\n"
      ],
      "metadata": {
        "id": "zSKW0KKFe053"
      }
    },
    {
      "cell_type": "code",
      "source": [
        "list1 = [1,2,3,4,5]\n",
        "list1.remove(3)\n",
        "list1"
      ],
      "metadata": {
        "colab": {
          "base_uri": "https://localhost:8080/"
        },
        "id": "gJrTtQWTezG0",
        "outputId": "7a38f60d-5c1f-4449-bc25-79f55abc4405"
      },
      "execution_count": 22,
      "outputs": [
        {
          "output_type": "execute_result",
          "data": {
            "text/plain": [
              "[1, 2, 4, 5]"
            ]
          },
          "metadata": {},
          "execution_count": 22
        }
      ]
    },
    {
      "cell_type": "markdown",
      "source": [],
      "metadata": {
        "id": "5pn1TMPGfSLR"
      }
    },
    {
      "cell_type": "markdown",
      "source": [
        "\n",
        "Q. 9.  Write a code to access the second element in the list ['a', 'b', 'c', 'd']\n"
      ],
      "metadata": {
        "id": "KS-t3nGvfS0I"
      }
    },
    {
      "cell_type": "code",
      "source": [
        "l = [\"a\",\"b\",\"c\",\"d\"]\n",
        "l[1]\n"
      ],
      "metadata": {
        "colab": {
          "base_uri": "https://localhost:8080/",
          "height": 36
        },
        "id": "IW5EhR1WfQUM",
        "outputId": "52dd1a72-2dfc-4846-e1aa-f37eecbcfef3"
      },
      "execution_count": 23,
      "outputs": [
        {
          "output_type": "execute_result",
          "data": {
            "text/plain": [
              "'b'"
            ],
            "application/vnd.google.colaboratory.intrinsic+json": {
              "type": "string"
            }
          },
          "metadata": {},
          "execution_count": 23
        }
      ]
    },
    {
      "cell_type": "markdown",
      "source": [],
      "metadata": {
        "id": "5sGbkU6vf5Es"
      }
    },
    {
      "cell_type": "markdown",
      "source": [
        "Q. 10. Write a code to reverse the list [10, 20, 30, 40, 50].\n"
      ],
      "metadata": {
        "id": "bBIfhnWpf6Mh"
      }
    },
    {
      "cell_type": "code",
      "source": [
        "lis = [10,20,30,40,50]\n",
        "lis.reverse()\n",
        "lis"
      ],
      "metadata": {
        "colab": {
          "base_uri": "https://localhost:8080/"
        },
        "id": "1SgnBoGpf2wQ",
        "outputId": "10eb0542-61f5-4bc3-dea4-8155fce94d3d"
      },
      "execution_count": 24,
      "outputs": [
        {
          "output_type": "execute_result",
          "data": {
            "text/plain": [
              "[50, 40, 30, 20, 10]"
            ]
          },
          "metadata": {},
          "execution_count": 24
        }
      ]
    },
    {
      "cell_type": "markdown",
      "source": [
        "Q. 11. Write a code to create a tuple with the elements 100, 200, 300 and print it.\n"
      ],
      "metadata": {
        "id": "5rTQLlCCgjtK"
      }
    },
    {
      "cell_type": "code",
      "source": [
        "tuple1 = (100,200,300)\n",
        "print(tuple1)"
      ],
      "metadata": {
        "colab": {
          "base_uri": "https://localhost:8080/"
        },
        "id": "cSPlINhEg8bw",
        "outputId": "c450e88c-9544-4f66-8ca6-f76982fb3dcb"
      },
      "execution_count": 25,
      "outputs": [
        {
          "output_type": "stream",
          "name": "stdout",
          "text": [
            "(100, 200, 300)\n"
          ]
        }
      ]
    },
    {
      "cell_type": "markdown",
      "source": [
        "Q. 12. Write a code to access the second-to-last element of the tuple ('red', 'green', 'blue', 'yellow').\n"
      ],
      "metadata": {
        "id": "VmbM1m5ThYBL"
      }
    },
    {
      "cell_type": "code",
      "source": [
        "tuple1 = (\"red\",\"green\",\"blue\",\"yellow\")\n",
        "tuple1[1:]"
      ],
      "metadata": {
        "colab": {
          "base_uri": "https://localhost:8080/"
        },
        "id": "KeT9om0TgiRF",
        "outputId": "9dea4ee3-d546-4780-ee92-8d9508239ca4"
      },
      "execution_count": 30,
      "outputs": [
        {
          "output_type": "execute_result",
          "data": {
            "text/plain": [
              "('green', 'blue', 'yellow')"
            ]
          },
          "metadata": {},
          "execution_count": 30
        }
      ]
    },
    {
      "cell_type": "markdown",
      "source": [
        "Q. 13. Write a code to find the minimum number in the tuple (10, 20, 5, 15).\n"
      ],
      "metadata": {
        "id": "_jPQfZIpiPLE"
      }
    },
    {
      "cell_type": "code",
      "source": [
        "t = (10,20,5,15)\n",
        "min(t)"
      ],
      "metadata": {
        "colab": {
          "base_uri": "https://localhost:8080/"
        },
        "id": "xpeYF3YUh5kP",
        "outputId": "d961ae95-2cbe-454d-d211-0b4367a799af"
      },
      "execution_count": 32,
      "outputs": [
        {
          "output_type": "execute_result",
          "data": {
            "text/plain": [
              "5"
            ]
          },
          "metadata": {},
          "execution_count": 32
        }
      ]
    },
    {
      "cell_type": "markdown",
      "source": [
        "Q. 14. Write a code to find the index of the element \"cat\" in the tuple ('dog', 'cat', 'rabbit').\n"
      ],
      "metadata": {
        "id": "EMrKoAGtirx2"
      }
    },
    {
      "cell_type": "code",
      "source": [
        "t = (\"dog\",\"cat\",\"rabbit\")\n",
        "t.index(\"cat\")"
      ],
      "metadata": {
        "colab": {
          "base_uri": "https://localhost:8080/"
        },
        "id": "Q4NF9oYQifom",
        "outputId": "0ff79702-37d7-473d-c577-b0e3b50e4a04"
      },
      "execution_count": 33,
      "outputs": [
        {
          "output_type": "execute_result",
          "data": {
            "text/plain": [
              "1"
            ]
          },
          "metadata": {},
          "execution_count": 33
        }
      ]
    },
    {
      "cell_type": "markdown",
      "source": [
        "Q. 15. Write a code to create a tuple containing three different fruits and check if \"kiwi\" is in it.\n"
      ],
      "metadata": {
        "id": "7D7LHvJHjLVQ"
      }
    },
    {
      "cell_type": "code",
      "source": [
        " fruits_name = (\"apple\",\"banana\",\"orange\",\"mango\")\n",
        " \"kiwi\" in fruits_name\n"
      ],
      "metadata": {
        "colab": {
          "base_uri": "https://localhost:8080/"
        },
        "id": "3wi1-dWQjIRP",
        "outputId": "6438ead5-659c-4e1d-f22b-6c0a2a75f694"
      },
      "execution_count": 35,
      "outputs": [
        {
          "output_type": "execute_result",
          "data": {
            "text/plain": [
              "False"
            ]
          },
          "metadata": {},
          "execution_count": 35
        }
      ]
    },
    {
      "cell_type": "markdown",
      "source": [
        "Q. 16. Write a code to create a set with the elements 'a', 'b', 'c' and print it"
      ],
      "metadata": {
        "id": "wh3XDFMrkvQJ"
      }
    },
    {
      "cell_type": "code",
      "source": [
        "s = {\"a\",\"b\",\"c\"}\n",
        "print(s)"
      ],
      "metadata": {
        "colab": {
          "base_uri": "https://localhost:8080/"
        },
        "id": "90_pguyEkjqQ",
        "outputId": "edb3518d-c1b2-4180-a4f2-bb68024e2023"
      },
      "execution_count": 36,
      "outputs": [
        {
          "output_type": "stream",
          "name": "stdout",
          "text": [
            "{'b', 'a', 'c'}\n"
          ]
        }
      ]
    },
    {
      "cell_type": "markdown",
      "source": [
        " Q. 17. Write a code to clear all elements from the set {1, 2, 3, 4, 5}.\n",
        " result.(replaced)\n"
      ],
      "metadata": {
        "id": "shWveNRflJTu"
      }
    },
    {
      "cell_type": "code",
      "source": [
        "s = {1,2,3,4,5}\n",
        "s.clear()\n",
        "print(s)"
      ],
      "metadata": {
        "colab": {
          "base_uri": "https://localhost:8080/"
        },
        "id": "YCJi35BAlB3q",
        "outputId": "6fa86a17-f271-4971-f211-235c96747380"
      },
      "execution_count": 38,
      "outputs": [
        {
          "output_type": "stream",
          "name": "stdout",
          "text": [
            "set()\n"
          ]
        }
      ]
    },
    {
      "cell_type": "markdown",
      "source": [
        " Q. 18. Write a code to remove the element 4 from the set {1, 2, 3, 4}.\n",
        " result.(replaced)\n"
      ],
      "metadata": {
        "id": "Rk2d8J9_lzsF"
      }
    },
    {
      "cell_type": "code",
      "source": [
        "s = {1,2,3,4}\n",
        "s.remove(4)\n",
        "print(s)"
      ],
      "metadata": {
        "colab": {
          "base_uri": "https://localhost:8080/"
        },
        "id": "clnjBU6QltZv",
        "outputId": "39cf0df1-106d-4a7d-9ecf-6e81cb4e0733"
      },
      "execution_count": 40,
      "outputs": [
        {
          "output_type": "stream",
          "name": "stdout",
          "text": [
            "{1, 2, 3}\n"
          ]
        }
      ]
    },
    {
      "cell_type": "markdown",
      "source": [
        "Q. 19. Write a code to find the union of two sets {1, 2, 3} and {3, 4, 5}.\n",
        " result.(replaced)\n"
      ],
      "metadata": {
        "id": "oZTtDxPbmKK3"
      }
    },
    {
      "cell_type": "code",
      "source": [
        "s1 = {1,2,3}\n",
        "s2 = {3,4,5}\n",
        "s1 | s2"
      ],
      "metadata": {
        "colab": {
          "base_uri": "https://localhost:8080/"
        },
        "id": "jdX4ZMr0mFvu",
        "outputId": "279f9217-6370-4949-bcef-8248c63c7992"
      },
      "execution_count": 42,
      "outputs": [
        {
          "output_type": "execute_result",
          "data": {
            "text/plain": [
              "{1, 2, 3, 4, 5}"
            ]
          },
          "metadata": {},
          "execution_count": 42
        }
      ]
    },
    {
      "cell_type": "markdown",
      "source": [
        "Q. 20. Write a code to find the intersection of two sets {1, 2, 3} and {2, 3, 4}.\n",
        " result.(replaced)\n"
      ],
      "metadata": {
        "id": "kAE0XTQFnPxL"
      }
    },
    {
      "cell_type": "code",
      "source": [
        "s1 = {1,2,3}\n",
        "s2 = {2,3,4}\n",
        "s1 & s2"
      ],
      "metadata": {
        "colab": {
          "base_uri": "https://localhost:8080/"
        },
        "id": "AVMulTsinDRF",
        "outputId": "1451dad7-5850-4235-9f86-93369d8d5b18"
      },
      "execution_count": 43,
      "outputs": [
        {
          "output_type": "execute_result",
          "data": {
            "text/plain": [
              "{2, 3}"
            ]
          },
          "metadata": {},
          "execution_count": 43
        }
      ]
    },
    {
      "cell_type": "markdown",
      "source": [
        "Q. 21. Write a code to create a dictionary with the keys \"name\", \"age\", and \"city\", and print it.\n",
        " result.(replaced)\n"
      ],
      "metadata": {
        "id": "pRByOBGRoYhk"
      }
    },
    {
      "cell_type": "code",
      "source": [
        "dict1 = {\"name\" : \"Jakir Ali\",\"Age\" : 18, \"city\" : \"bhopal\"}\n",
        "print(dict1)"
      ],
      "metadata": {
        "colab": {
          "base_uri": "https://localhost:8080/"
        },
        "id": "dRbAVzaBoPQb",
        "outputId": "598dc30d-509f-42bb-9999-2d1cf39c73fb"
      },
      "execution_count": 44,
      "outputs": [
        {
          "output_type": "stream",
          "name": "stdout",
          "text": [
            "{'name': 'Jakir Ali', 'Age': 18, 'city': 'bhopal'}\n"
          ]
        }
      ]
    },
    {
      "cell_type": "markdown",
      "source": [
        " 22. Write a code to add a new key-value pair \"country\": \"USA\" to the dictionary {'name': 'John', 'age': 25}.\n",
        " result.(replaced)\n"
      ],
      "metadata": {
        "id": "9HRZLKz5pPqp"
      }
    },
    {
      "cell_type": "code",
      "source": [
        "d = {\"name\":\"John\",\"age\":25,}\n",
        "d[\"country\"] = \"USA\"\n",
        "print(d)"
      ],
      "metadata": {
        "colab": {
          "base_uri": "https://localhost:8080/"
        },
        "id": "A0LeRxGtpNEZ",
        "outputId": "874904ce-d36f-4e77-cbf7-1560c63aed36"
      },
      "execution_count": 45,
      "outputs": [
        {
          "output_type": "stream",
          "name": "stdout",
          "text": [
            "{'name': 'John', 'age': 25, 'country': 'USA'}\n"
          ]
        }
      ]
    },
    {
      "cell_type": "markdown",
      "source": [
        "\n",
        "Q. 23. Write a code to access the value associated with the key \"name\" in the dictionary {'name': 'Alice', 'age': 30}"
      ],
      "metadata": {
        "id": "KmRxnyl_qMNH"
      }
    },
    {
      "cell_type": "code",
      "source": [
        "d = {\"name\":\"Alice\", \"age\":30}\n",
        "d[\"name\"]"
      ],
      "metadata": {
        "colab": {
          "base_uri": "https://localhost:8080/",
          "height": 36
        },
        "id": "qDiQPt_2qKGX",
        "outputId": "09b82ad5-7c05-4b69-b5a8-5f9b8c63ce88"
      },
      "execution_count": 47,
      "outputs": [
        {
          "output_type": "execute_result",
          "data": {
            "text/plain": [
              "'Alice'"
            ],
            "application/vnd.google.colaboratory.intrinsic+json": {
              "type": "string"
            }
          },
          "metadata": {},
          "execution_count": 47
        }
      ]
    },
    {
      "cell_type": "markdown",
      "source": [
        "Q. 24. Write a code to remove the key \"age\" from the dictionary {'name': 'Bob', 'age': 22, 'city': 'New York'}.\n"
      ],
      "metadata": {
        "id": "xiHFEpYIsQAs"
      }
    },
    {
      "cell_type": "code",
      "source": [
        "d = {\"name\": \"Bob\",\"age\":22,\"city\":\"New York\"}\n",
        "d.pop(\"age\")\n"
      ],
      "metadata": {
        "colab": {
          "base_uri": "https://localhost:8080/"
        },
        "id": "KLxHFc6Ms5do",
        "outputId": "967932ce-b447-4a7c-be9e-2be06729f5ce"
      },
      "execution_count": 55,
      "outputs": [
        {
          "output_type": "execute_result",
          "data": {
            "text/plain": [
              "22"
            ]
          },
          "metadata": {},
          "execution_count": 55
        }
      ]
    },
    {
      "cell_type": "code",
      "source": [
        "d"
      ],
      "metadata": {
        "colab": {
          "base_uri": "https://localhost:8080/"
        },
        "id": "jJvy1ACdtdli",
        "outputId": "377931bf-5571-4e3b-bdfe-2003ce5d684a"
      },
      "execution_count": 56,
      "outputs": [
        {
          "output_type": "execute_result",
          "data": {
            "text/plain": [
              "{'name': 'Bob', 'city': 'New York'}"
            ]
          },
          "metadata": {},
          "execution_count": 56
        }
      ]
    },
    {
      "cell_type": "markdown",
      "source": [
        "Q. 25. Write a code to check if the key \"city\" exists in the dictionary {'name': 'Alice', 'city': 'Paris'}.\n"
      ],
      "metadata": {
        "id": "TF-eT1tGuHPj"
      }
    },
    {
      "cell_type": "code",
      "source": [
        "dis = {\"name\":\"Alice\",\"city\": \"Paris\"}\n",
        "\"city\" in dis"
      ],
      "metadata": {
        "colab": {
          "base_uri": "https://localhost:8080/"
        },
        "id": "C2pyFQGcuGDI",
        "outputId": "96732cd3-4fe0-4800-f138-d74c155063a9"
      },
      "execution_count": 57,
      "outputs": [
        {
          "output_type": "execute_result",
          "data": {
            "text/plain": [
              "True"
            ]
          },
          "metadata": {},
          "execution_count": 57
        }
      ]
    },
    {
      "cell_type": "markdown",
      "source": [
        " Q. 26. Write a code to create a list, a tuple, and a dictionary, and print them all.\n"
      ],
      "metadata": {
        "id": "bCXjRuiOvFfC"
      }
    },
    {
      "cell_type": "code",
      "source": [
        "list1 = [1,2,3,4,5]\n",
        "tuple1 = (10,20,30,40,50)\n",
        "dict1 = {\"name\":\"Jakir Ali\",\"age\":18}\n",
        "print(list1)\n",
        "print(tuple1)\n",
        "print(dict1)\n"
      ],
      "metadata": {
        "colab": {
          "base_uri": "https://localhost:8080/"
        },
        "id": "yU2y40RHvDZQ",
        "outputId": "f7808a22-f690-4071-f88e-84a3464e6af6"
      },
      "execution_count": 60,
      "outputs": [
        {
          "output_type": "stream",
          "name": "stdout",
          "text": [
            "[1, 2, 3, 4, 5]\n",
            "(10, 20, 30, 40, 50)\n",
            "{'name': 'Jakir Ali', 'age': 18}\n"
          ]
        }
      ]
    },
    {
      "cell_type": "markdown",
      "source": [
        "Q. 27. Write a code to create a list of 5 random numbers between 1 and 100, sort it in ascending order, and print the"
      ],
      "metadata": {
        "id": "7PGHub4-wRoB"
      }
    },
    {
      "cell_type": "code",
      "source": [
        "list2 = [10,50,47,35,2,9,75,30,30,30,6]\n",
        "list2.sort()\n",
        "print(list2)"
      ],
      "metadata": {
        "colab": {
          "base_uri": "https://localhost:8080/"
        },
        "id": "J8bt2G8Uv-u8",
        "outputId": "3f794d75-60c5-41f7-bcf6-d9f43f1c95db"
      },
      "execution_count": 62,
      "outputs": [
        {
          "output_type": "stream",
          "name": "stdout",
          "text": [
            "[2, 6, 9, 10, 30, 30, 30, 35, 47, 50, 75]\n"
          ]
        }
      ]
    },
    {
      "cell_type": "markdown",
      "source": [
        "Q. 28. Write a code to create a list with strings and print the element at the third index.\n"
      ],
      "metadata": {
        "id": "1rJN7_rVw1dn"
      }
    },
    {
      "cell_type": "code",
      "source": [
        "lst = [\"apple\",\"banana\",\"mango\",\"a\",\"b\",\"jakir\"]\n",
        "lst[3]"
      ],
      "metadata": {
        "colab": {
          "base_uri": "https://localhost:8080/",
          "height": 36
        },
        "id": "gFDDKLZBwr00",
        "outputId": "699dd2f6-6d8d-40bb-d660-24d2fe1135f6"
      },
      "execution_count": 63,
      "outputs": [
        {
          "output_type": "execute_result",
          "data": {
            "text/plain": [
              "'a'"
            ],
            "application/vnd.google.colaboratory.intrinsic+json": {
              "type": "string"
            }
          },
          "metadata": {},
          "execution_count": 63
        }
      ]
    },
    {
      "cell_type": "markdown",
      "source": [
        "Q. 29. Write a code to combine two dictionaries into one and print the result.\n"
      ],
      "metadata": {
        "id": "_ROnxv0gxvmi"
      }
    },
    {
      "cell_type": "code",
      "source": [
        "d1 = {\"a\":1,\"b\":2}\n",
        "d2 = {\"c\":3,\"d\":4}\n",
        "d1.update(d2)\n",
        "print(d1)"
      ],
      "metadata": {
        "colab": {
          "base_uri": "https://localhost:8080/"
        },
        "id": "H8c9aKTrxt8-",
        "outputId": "af6e4af2-02f0-42a2-e21b-74d18771f2b7"
      },
      "execution_count": 66,
      "outputs": [
        {
          "output_type": "stream",
          "name": "stdout",
          "text": [
            "{'a': 1, 'b': 2, 'c': 3, 'd': 4}\n"
          ]
        }
      ]
    },
    {
      "cell_type": "markdown",
      "source": [
        " 30. Write a code to convert a list of strings into a set"
      ],
      "metadata": {
        "id": "EkkA54Q4yZBj"
      }
    },
    {
      "cell_type": "code",
      "source": [
        "list1 = [\"jakir\",\"ali\",\"apple\",\"banana\"]\n",
        "list2 =set(list1)\n",
        "print(list2)"
      ],
      "metadata": {
        "colab": {
          "base_uri": "https://localhost:8080/"
        },
        "id": "DTfpgFF9x9ab",
        "outputId": "c8ad0848-c1ff-468e-d5a0-49266fa9c858"
      },
      "execution_count": 67,
      "outputs": [
        {
          "output_type": "stream",
          "name": "stdout",
          "text": [
            "{'ali', 'apple', 'banana', 'jakir'}\n"
          ]
        }
      ]
    },
    {
      "cell_type": "code",
      "source": [],
      "metadata": {
        "id": "9OXF171Ly8p8"
      },
      "execution_count": null,
      "outputs": []
    }
  ]
}